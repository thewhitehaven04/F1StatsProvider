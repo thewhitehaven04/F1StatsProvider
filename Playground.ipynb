{
 "cells": [
  {
   "cell_type": "code",
   "execution_count": 1,
   "id": "ce789b05",
   "metadata": {},
   "outputs": [],
   "source": [
    "import fastf1\n",
    "import pandas as pd\n",
    "import numpy as np"
   ]
  },
  {
   "cell_type": "code",
   "execution_count": 2,
   "id": "5a7cb1bc",
   "metadata": {},
   "outputs": [
    {
     "name": "stderr",
     "output_type": "stream",
     "text": [
      "req         WARNING \tDEFAULT CACHE ENABLED! (195.85 MB) /Users/germanbulavkin/Library/Caches/fastf1\n",
      "core           INFO \tLoading data for Austrian Grand Prix - Race [v3.4.0]\n",
      "req            INFO \tUsing cached data for session_info\n",
      "req            INFO \tUsing cached data for driver_info\n",
      "req            INFO \tUsing cached data for session_status_data\n",
      "req            INFO \tUsing cached data for lap_count\n",
      "req            INFO \tUsing cached data for track_status_data\n",
      "req            INFO \tUsing cached data for _extended_timing_data\n",
      "req            INFO \tUsing cached data for timing_app_data\n",
      "core           INFO \tProcessing timing data...\n",
      "core           INFO \tFinished loading data for 20 drivers: ['1', '16', '11', '4', '14', '55', '63', '44', '18', '10', '23', '24', '2', '31', '77', '81', '21', '20', '22', '27']\n"
     ]
    }
   ],
   "source": [
    "session = fastf1.get_session(year=2023, identifier='Race', gp='Austria')\n",
    "session.load(laps=True, telemetry=False, weather=False, messages=False)"
   ]
  },
  {
   "cell_type": "code",
   "execution_count": 8,
   "id": "dea53580",
   "metadata": {},
   "outputs": [
    {
     "name": "stderr",
     "output_type": "stream",
     "text": [
      "req         WARNING \tDEFAULT CACHE ENABLED! (140.74 MB) /Users/germanbulavkin/Library/Caches/fastf1\n"
     ]
    },
    {
     "name": "stderr",
     "output_type": "stream",
     "text": [
      "core           INFO \tLoading data for Australian Grand Prix - Practice 2 [v3.4.0]\n",
      "req            INFO \tUsing cached data for session_info\n",
      "req            INFO \tUsing cached data for driver_info\n",
      "req            INFO \tUsing cached data for session_status_data\n",
      "req            INFO \tUsing cached data for track_status_data\n",
      "req            INFO \tUsing cached data for _extended_timing_data\n",
      "req            INFO \tUsing cached data for timing_app_data\n",
      "core           INFO \tProcessing timing data...\n",
      "core        WARNING \tNo lap data for driver 2\n",
      "core        WARNING \tFailed to perform lap accuracy check - all laps marked as inaccurate (driver 2)\n",
      "req            INFO \tUsing cached data for weather_data\n",
      "core           INFO \tFinished loading data for 20 drivers: ['1', '10', '11', '14', '16', '18', '2', '20', '21', '22', '23', '24', '27', '31', '4', '44', '55', '63', '77', '81']\n"
     ]
    }
   ],
   "source": [
    "session = fastf1.get_session(year=2023, identifier='Practice 2', gp='Australia')\n",
    "session.load(laps=True, telemetry=False, weather=True, messages=False)"
   ]
  },
  {
   "cell_type": "code",
   "execution_count": 6,
   "id": "020c03c6",
   "metadata": {},
   "outputs": [
    {
     "name": "stderr",
     "output_type": "stream",
     "text": [
      "/var/folders/0h/_ft064n17r98nzj1w0nz7dq00000gn/T/ipykernel_1403/160505874.py:19: SettingWithCopyWarning: \n",
      "A value is trying to be set on a copy of a slice from a DataFrame\n",
      "\n",
      "See the caveats in the documentation: https://pandas.pydata.org/pandas-docs/stable/user_guide/indexing.html#returning-a-view-versus-a-copy\n",
      "  formatted_laps.rename(columns={\"SpeedI1\": \"ST1\", \"SpeedI2\": \"ST2\", \"SpeedFL\": \"ST3\"}, inplace=True)\n"
     ]
    }
   ],
   "source": [
    "formatted_laps = session.laps[[\n",
    "                    \"Driver\",\n",
    "                \"Team\",\n",
    "                \"LapNumber\",\n",
    "                \"LapTime\",\n",
    "                \"Sector1Time\",\n",
    "                \"Sector2Time\",\n",
    "                \"Sector3Time\",\n",
    "                \"SpeedI1\",\n",
    "                \"SpeedI2\",\n",
    "                \"SpeedFL\",\n",
    "                \"IsPersonalBest\",\n",
    "                \"Stint\",\n",
    "                \"TyreLife\",\n",
    "                \"Position\",\n",
    "                \"Compound\",\n",
    "]]\n",
    "\n",
    "formatted_laps.rename(columns={\"SpeedI1\": \"ST1\", \"SpeedI2\": \"ST2\", \"SpeedFL\": \"ST3\"}, inplace=True)\n",
    "formatted_laps[\"LapTime\"].round(3)\n",
    "formatted_laps[\"Sector1Time\"].round(3)\n",
    "formatted_laps[\"Sector2Time\"].round(3)\n",
    "formatted_laps[\"Sector3Time\"].round(3)"
   ]
  },
  {
   "cell_type": "code",
   "execution_count": 8,
   "id": "1c5b8a7d-2f9a-459c-a682-8f13eeacbf17",
   "metadata": {},
   "outputs": [
    {
     "name": "stderr",
     "output_type": "stream",
     "text": [
      "core        WARNING \tFailed to preserve data type for column 'X' while merging telemetry.\n",
      "core        WARNING \tFailed to preserve data type for column 'Y' while merging telemetry.\n",
      "core        WARNING \tFailed to preserve data type for column 'Z' while merging telemetry.\n"
     ]
    }
   ],
   "source": [
    "lec_telemetry = laps.pick_driver('16').pick_lap(20).get_telemetry()\n",
    "ver_telemetry = laps.pick_driver('4').pick_lap(20).get_telemetry()\n",
    "\n",
    "filter_columns = ['Time', 'Speed', 'Distance', 'RelativeDistance']\n",
    "\n",
    "lec_telemetry = lec_telemetry[filter_columns]\n",
    "ver_telemetry = ver_telemetry[filter_columns]"
   ]
  },
  {
   "cell_type": "code",
   "execution_count": 9,
   "id": "724a9098",
   "metadata": {},
   "outputs": [],
   "source": [
    "def get_interpolated_time_at_distance(telemetry, relative_distance_point: float | int) -> float:\n",
    "    threshold_index = 0\n",
    "    \n",
    "    RELATIVE_DISTANCE_COLUMN_INDEX = 3\n",
    "    TIME_INDEX = 0\n",
    "\n",
    "    TOLERANCE = 0.0005\n",
    "\n",
    "    for index, row in enumerate(telemetry.values):\n",
    "        if row[RELATIVE_DISTANCE_COLUMN_INDEX] <= relative_distance_point:\n",
    "            threshold_index = index\n",
    "        else: \n",
    "            break\n",
    "    \n",
    "    if np.abs(telemetry.values[threshold_index][RELATIVE_DISTANCE_COLUMN_INDEX]-relative_distance_point) < TOLERANCE: \n",
    "        return telemetry.values[threshold_index][TIME_INDEX]\n",
    "\n",
    "    lower_than_avg_data_row = telemetry.values[threshold_index]\n",
    "    higher_than_avg_data_row = telemetry.values[threshold_index + 1]\n",
    "    \n",
    "    lo_time = lower_than_avg_data_row[TIME_INDEX]\n",
    "    hi_time = higher_than_avg_data_row[TIME_INDEX]\n",
    "    \n",
    "    lo_distance = lower_than_avg_data_row[3]\n",
    "    hi_distance = higher_than_avg_data_row[3]\n",
    "    \n",
    "    diff = hi_distance - lo_distance\n",
    "\n",
    "    lo_diff = relative_distance_point - lo_distance\n",
    "    hi_diff = hi_distance - relative_distance_point\n",
    "\n",
    "    return (lo_diff / diff) * lo_time + (hi_diff / diff) * hi_time"
   ]
  },
  {
   "cell_type": "code",
   "execution_count": 10,
   "id": "ff1dc352",
   "metadata": {},
   "outputs": [],
   "source": [
    "def get_deltas(telemetry, telemetry_compared_to):\n",
    "    deltas = [] \n",
    "\n",
    "    RELATIVE_DISTANCE_COLUMN_INDEX = 3\n",
    "    TIME_INDEX = 0\n",
    "\n",
    "    for row in telemetry.values:\n",
    "        rel_distance = row[RELATIVE_DISTANCE_COLUMN_INDEX]\n",
    "        compared_time = row[TIME_INDEX]\n",
    " \n",
    "        interpolated_time = get_interpolated_time_at_distance(telemetry=telemetry_compared_to, relative_distance_point=rel_distance)\n",
    "        deltas.append([rel_distance, (compared_time-interpolated_time).total_seconds()])\n",
    "                      \n",
    "    return deltas "
   ]
  },
  {
   "cell_type": "code",
   "execution_count": 11,
   "id": "56ee9b77",
   "metadata": {},
   "outputs": [
    {
     "ename": "IndexError",
     "evalue": "index 731 is out of bounds for axis 0 with size 731",
     "output_type": "error",
     "traceback": [
      "\u001b[0;31m---------------------------------------------------------------------------\u001b[0m",
      "\u001b[0;31mIndexError\u001b[0m                                Traceback (most recent call last)",
      "Cell \u001b[0;32mIn[11], line 1\u001b[0m\n\u001b[0;32m----> 1\u001b[0m deltas \u001b[38;5;241m=\u001b[39m \u001b[43mget_deltas\u001b[49m\u001b[43m(\u001b[49m\u001b[43mver_telemetry\u001b[49m\u001b[43m,\u001b[49m\u001b[43m \u001b[49m\u001b[43mlec_telemetry\u001b[49m\u001b[43m)\u001b[49m\n\u001b[1;32m      2\u001b[0m deltas\n",
      "Cell \u001b[0;32mIn[10], line 11\u001b[0m, in \u001b[0;36mget_deltas\u001b[0;34m(telemetry, telemetry_compared_to)\u001b[0m\n\u001b[1;32m      8\u001b[0m     rel_distance \u001b[38;5;241m=\u001b[39m row[RELATIVE_DISTANCE_COLUMN_INDEX]\n\u001b[1;32m      9\u001b[0m     compared_time \u001b[38;5;241m=\u001b[39m row[TIME_INDEX]\n\u001b[0;32m---> 11\u001b[0m     interpolated_time \u001b[38;5;241m=\u001b[39m \u001b[43mget_interpolated_time_at_distance\u001b[49m\u001b[43m(\u001b[49m\u001b[43mtelemetry\u001b[49m\u001b[38;5;241;43m=\u001b[39;49m\u001b[43mtelemetry_compared_to\u001b[49m\u001b[43m,\u001b[49m\u001b[43m \u001b[49m\u001b[43mrelative_distance_point\u001b[49m\u001b[38;5;241;43m=\u001b[39;49m\u001b[43mrel_distance\u001b[49m\u001b[43m)\u001b[49m\n\u001b[1;32m     12\u001b[0m     deltas\u001b[38;5;241m.\u001b[39mappend([rel_distance, (compared_time\u001b[38;5;241m-\u001b[39minterpolated_time)\u001b[38;5;241m.\u001b[39mtotal_seconds()])\n\u001b[1;32m     14\u001b[0m \u001b[38;5;28;01mreturn\u001b[39;00m deltas\n",
      "Cell \u001b[0;32mIn[9], line 19\u001b[0m, in \u001b[0;36mget_interpolated_time_at_distance\u001b[0;34m(telemetry, relative_distance_point)\u001b[0m\n\u001b[1;32m     16\u001b[0m     \u001b[38;5;28;01mreturn\u001b[39;00m telemetry\u001b[38;5;241m.\u001b[39mvalues[threshold_index][TIME_INDEX]\n\u001b[1;32m     18\u001b[0m lower_than_avg_data_row \u001b[38;5;241m=\u001b[39m telemetry\u001b[38;5;241m.\u001b[39mvalues[threshold_index]\n\u001b[0;32m---> 19\u001b[0m higher_than_avg_data_row \u001b[38;5;241m=\u001b[39m \u001b[43mtelemetry\u001b[49m\u001b[38;5;241;43m.\u001b[39;49m\u001b[43mvalues\u001b[49m\u001b[43m[\u001b[49m\u001b[43mthreshold_index\u001b[49m\u001b[43m \u001b[49m\u001b[38;5;241;43m+\u001b[39;49m\u001b[43m \u001b[49m\u001b[38;5;241;43m1\u001b[39;49m\u001b[43m]\u001b[49m\n\u001b[1;32m     21\u001b[0m lo_time \u001b[38;5;241m=\u001b[39m lower_than_avg_data_row[TIME_INDEX]\n\u001b[1;32m     22\u001b[0m hi_time \u001b[38;5;241m=\u001b[39m higher_than_avg_data_row[TIME_INDEX]\n",
      "\u001b[0;31mIndexError\u001b[0m: index 731 is out of bounds for axis 0 with size 731"
     ]
    }
   ],
   "source": [
    "deltas = get_deltas(ver_telemetry, lec_telemetry)\n",
    "deltas"
   ]
  },
  {
   "cell_type": "code",
   "execution_count": 12,
   "id": "e21ae0d8",
   "metadata": {},
   "outputs": [],
   "source": [
    "laps['IsOutlap'] = pd.isna(laps['Sector1Time'])\n",
    "laps['IsInlap'] = pd.isna(laps['Sector3Time'])"
   ]
  },
  {
   "cell_type": "code",
   "execution_count": null,
   "id": "788611ef",
   "metadata": {},
   "outputs": [],
   "source": []
  }
 ],
 "metadata": {
  "kernelspec": {
   "display_name": "f1data-vWlxYSdD-py3.11",
   "language": "python",
   "name": "python3"
  },
  "language_info": {
   "codemirror_mode": {
    "name": "ipython",
    "version": 3
   },
   "file_extension": ".py",
   "mimetype": "text/x-python",
   "name": "python",
   "nbconvert_exporter": "python",
   "pygments_lexer": "ipython3",
   "version": "3.11.9"
  }
 },
 "nbformat": 4,
 "nbformat_minor": 5
}
